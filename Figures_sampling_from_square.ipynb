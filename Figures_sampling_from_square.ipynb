{
 "cells": [
  {
   "cell_type": "code",
   "execution_count": 1,
   "metadata": {
    "collapsed": true
   },
   "outputs": [],
   "source": [
    "import numpy as np\n",
    "import matplotlib.pyplot as plt\n",
    "import scipy as sp\n",
    "import scipy.stats as ss\n",
    "import math\n",
    "import random"
   ]
  },
  {
   "cell_type": "markdown",
   "metadata": {},
   "source": [
    "# Using Monte Carlo to estimate $\\pi$\n",
    "\n",
    "One method to estimate the value of $\\pi = 3.141592…$  is by using a Monte Carlo method. This methods consists of drawing on a canvas a square with an inner circle. We then generate a large number of random points within the square and count how many fall in the enclosed circle.\n",
    "\n",
    "The same ratio can be used between the number of points within the square and the number of points within the circle.\n",
    "\n",
    "\n",
    "\n",
    "The Area of a circle = $\\pi r^2$\n",
    "\n",
    "The Area of  a square = $ 4 r^2$\n",
    "\n",
    "The probability that  apoint is inside a  circle P(inside a circle)= $\\frac{\\pi r^2}{4r^2}$\n",
    "\n",
    "The idea is to simulate random (x, y) points in a 2-D plane with domain as a square of side $r$ units. Imagine a circle inside the same domain with same diameter and inscribed into the square. We then calculate the ratio of number points that lied inside the circle and total number of generated points. Refer to the image below:\n",
    "\n",
    "\n",
    "$\\frac{\\textrm{area of the circle}}{\\textrm{area of the square}} = \\frac{\\textrm{no. of points generated inside the circle}}{\\textrm{total no. of points generated or no. of points generated inside the square}}$\n",
    "\n",
    "that is,\n",
    "\n",
    "$\\pi = 4 \\ast \\frac{\\textrm{no. of points generated inside the circle}}{\\textrm{no. of points generated inside the square}} $\n",
    "\n",
    "We simply generate random $(x, y)$ pairs and then check if  $x^{2} + y^{2} \\leqslant r $ . If yes, we increment the number of points that appears inside the circle."
   ]
  },
  {
   "cell_type": "markdown",
   "metadata": {},
   "source": [
    "The accuracy of the Monte Carlo estimate for $\\pi$ depends on the number of randomly chosen points, or Monte Carlo trials. The more the trials/iterations the closer the estimate to the true value of $\\pi$. However, the convergence is rather slow and in practice a very large number of Monte Carlo trials are often used."
   ]
  },
  {
   "cell_type": "code",
   "execution_count": 2,
   "metadata": {},
   "outputs": [],
   "source": [
    "iterations = 1000\n",
    "radius = 2 \n",
    "no_circle_points,no_square_points = 0,0\n",
    "\n",
    "all_points = []\n",
    "\n",
    "# Total Random numbers generated. All possible (x,y) points \n",
    "for i in range(iterations):\n",
    "    all_points.append([np.random.uniform(-radius,radius), np.random.uniform(-radius,radius)])\n",
    "    \n",
    "    \n",
    "#Calculate the distance between (x, y) and the origin of the circle.\n",
    "#This value is squared to avoid negatives.\n",
    "\n",
    "origin_dist =[(all_points[i][0]**2+all_points[i][1]**2) for i in range(iterations)]\n",
    "\n",
    "\n",
    "inside_points,outside_points =[],[]\n",
    "\n",
    "#For each of the points selected in the iteration, \n",
    "#check whether the distance is less than or equal to the radius pf the circle.\n",
    "#Note that the distance was squared to avoid negatives,, so must be the radius when comparing.\n",
    "#If less then it is inside, otherwise it is outside\n",
    "\n",
    "\n",
    "for i in range(iterations):\n",
    "   # Checking if (x, y) lies inside the circle \n",
    "    if((origin_dist[i] <= radius**2)):\n",
    "        inside_points.append([all_points[i][0],all_points[i][1]])\n",
    "        no_circle_points +=1\n",
    "    else:\n",
    "        outside_points.append([all_points[i][0],all_points[i][1]])\n",
    "    \n",
    "    no_square_points +=1\n",
    "        "
   ]
  },
  {
   "cell_type": "markdown",
   "metadata": {},
   "source": [
    "# Visualize"
   ]
  },
  {
   "cell_type": "code",
   "execution_count": 3,
   "metadata": {},
   "outputs": [
    {
     "data": {
      "image/png": "[encoded data removed]",
      "text/plain": [
       "<matplotlib.figure.Figure at 0x1092de780>"
      ]
     },
     "metadata": {},
     "output_type": "display_data"
    }
   ],
   "source": [
    "# Change the list to array for easy indexing\n",
    "inside_points=np.array(inside_points)\n",
    "outside_points=np.array(outside_points)\n",
    "\n",
    "\n",
    "\n",
    "ax = plt.subplot(111)\n",
    "\n",
    "ax.plot(inside_points[:,0],inside_points[:,1], 'ro')\n",
    "ax.plot(outside_points[:,0],outside_points[:,1], 'b+')\n",
    "ax.set_xlabel('2r')\n",
    "ax.set_ylabel('2r')\n",
    "ax.set_title(\"Sampling from a Square: Estimating $\\pi$\")\n",
    "ax.set_aspect(aspect=1)\n",
    "plt.savefig('square.png')\n",
    "plt.show()"
   ]
  },
  {
   "cell_type": "markdown",
   "metadata": {},
   "source": [
    "# Estimate the $\\pi$\n",
    "\n",
    "We compute the ratio between the \n",
    "\n",
    "$\\pi = 4 =  \\frac{\\text{no. of points generated inside the circle}}{\\text{no. of points generated inside the square}}$"
   ]
  },
  {
   "cell_type": "code",
   "execution_count": 4,
   "metadata": {},
   "outputs": [
    {
     "name": "stdout",
     "output_type": "stream",
     "text": [
      "Approximation of Pi after   1000 iterations: 3.072\n"
     ]
    }
   ],
   "source": [
    "pi = 4* no_circle_points / no_square_points \n",
    "print(\"Approximation of Pi after  \",iterations, 'iterations:', pi) \n",
    "plt.show()"
   ]
  }
 ],
 "metadata": {
  "kernelspec": {
   "display_name": "Python 3 (ipykernel)",
   "language": "python",
   "name": "python3"
  },
  "language_info": {
   "codemirror_mode": {
    "name": "ipython",
    "version": 3
   },
   "file_extension": ".py",
   "mimetype": "text/x-python",
   "name": "python",
   "nbconvert_exporter": "python",
   "pygments_lexer": "ipython3",
   "version": "3.9.7"
  }
 },
 "nbformat": 4,
 "nbformat_minor": 2
}
