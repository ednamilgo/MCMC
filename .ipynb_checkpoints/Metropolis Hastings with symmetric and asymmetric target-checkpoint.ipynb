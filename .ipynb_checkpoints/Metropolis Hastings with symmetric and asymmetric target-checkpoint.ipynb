{
 "cells": [
  {
   "cell_type": "code",
   "execution_count": 1,
   "metadata": {},
   "outputs": [],
   "source": [
    "import numpy as np\n",
    "import matplotlib.pyplot as plt\n",
    "import seaborn as sns\n",
    "import scipy.stats as ss\n",
    "from scipy.stats import lognorm"
   ]
  },
  {
   "cell_type": "code",
   "execution_count": 2,
   "metadata": {},
   "outputs": [],
   "source": [
    "np.random.seed=1000"
   ]
  },
  {
   "cell_type": "code",
   "execution_count": null,
   "metadata": {},
   "outputs": [],
   "source": [
    "## Metropolis Hastngs Algorith\n",
    "\n",
    "Metropolis Hastings algorith is the standard MCMC algorithm. \n",
    "it uses a simpler proposal distribution to navigate and sample from a complex distribution.\n",
    "\n",
    "###MH algorithm\n",
    "\n",
    "    "
   ]
  },
  {
   "cell_type": "markdown",
   "metadata": {},
   "source": [
    "## Part 1: Sysmmetric Invariant(target) distribution\n",
    "\n",
    "We first look at the ase where the traget distibution and the proposal distribution are symetric."
   ]
  },
  {
   "cell_type": "markdown",
   "metadata": {},
   "source": [
    "# Symmetric Proposal\n",
    "\n",
    "**Gaussian distribution** is sysmmetric in nture. We can therefor use a simplified MH acceptance criteria.  We can use a symmetric proposal distribution such as  uniform distributions.\n",
    "\n",
    "We look at the perfomance of a uniform distribution with diferent parameters and how the tails of the log normal distribition will be sampled. Note that log-normal distribution is assymetric in nature. \n",
    "These are :\n",
    "\n",
    "1) We use the Uniform distribution  $U(- \\Delta, \\Delta)$ where $\\Delta=2$\n",
    "\n",
    "2)  We use the Uniform distribution  $U(- \\Delta, \\Delta)$ where $\\Delta=5$\n"
   ]
  },
  {
   "cell_type": "code",
   "execution_count": 3,
   "metadata": {},
   "outputs": [],
   "source": [
    "def proposal_distribution_symmetric(delta):\n",
    "    proposal = np.random.uniform(-delta, delta)  \n",
    "    return proposal"
   ]
  },
  {
   "cell_type": "markdown",
   "metadata": {},
   "source": [
    "Suppose we use **standard Metropolis**, with symmetric proposal\n",
    "\n",
    "$$\n",
    "x^* = x + U(-\\Delta,\\Delta)\n",
    "$$\n",
    "\n",
    "This implies that the probability of choosing something in the interval $[x^*, x^* + dx]$, when we are at $x$ is:\n",
    "\n",
    "$$q(x^* ; x) = \\frac{dx}{2\\Delta}$$\n",
    "\n",
    " while the probability that $x$ is the interval $[x, x + dx]$ when we are at $x^*$ is given by\n",
    "\n",
    "$$q(x ; x^*) = \\frac{dx}{2\\Delta}= q( x^* ; x) $$\n",
    "\n",
    "THe two probabilities cancels out, hence the standard acceptance criteria for the **symmetric** is \n",
    "\n",
    "\n",
    "$$\\alpha_{MH}(\\mathbf{x}^{*}; \\mathbf{x}_{n} ) =  \\min \\left\\lbrace   1, \\dfrac{ \\pi(\\mathbf{x}^* ) \n",
    "} {\\pi(\\mathbf{x}_{n}) }\\right\\rbrace $$\n",
    "\n",
    "While that for **assymetric proposal distrubution** is \n",
    "\n",
    "$$\\alpha_{MH}(\\mathbf{x}^{*}; \\mathbf{x}_{n} ) =  \\min \\left\\lbrace   1, \\dfrac{ \\pi(\\mathbf{x}^* ) \n",
    "q(\\mathbf{x}_n ; \\mathbf{x}^*)} {\\pi(\\mathbf{x}_{n})  q(\\mathbf{x}^{*} ; \\mathbf{x}_n)}\\right\\rbrace $$"
   ]
  },
  {
   "cell_type": "markdown",
   "metadata": {},
   "source": [
    "# Asymmetric proposal distribution\n",
    "\n",
    "\n",
    "We choose to use **assymetric proposal** distribution in the case of target distribution which is in assymetric.\n",
    "\n",
    "\n",
    "Suppose we take steps in the **log**-domain instead, i.e. \n",
    "$$x^* =  \\beta x, ~~~ \\beta \\in U(\\frac{1} {\\rho}, \\rho)$$\n",
    "\n",
    "Note that this proposal distribution is asymmetric. The probability that the candidate $x^*$  is in the interval $[x^*, x^* + dx]$ \n",
    "when we are at $x$ is given by\n",
    "\n",
    "$$q(x^* ; x) = \\frac{dx}{x(\\rho - 1/\\rho)}$$\n",
    "\n",
    "\\noindent while the probability that $x$ is the interval $[x, x + dx]$ when we are at $x^*$ is given by\n",
    "\n",
    "$$q(x ; x^*) = \\frac{dx}{x^*(\\rho - 1/\\rho)}$$\n",
    "\n",
    "\n",
    "The ratio of the two equals\n",
    "\n",
    "$$\\frac{q(x^* ; x)}{q(x ; x^*)} = \\frac{x^*}{x}$$\n",
    "\n",
    "Going beyond symmetric proposal distributions  makes it possibility to propose bold moves and still have a high acceptance probability.\n",
    "\n",
    "Note that the candidate $x^*$ will always be accepted if we can find an asymmetric proposal distribution satisfying\n",
    "\n",
    "$$\n",
    "\\frac{q(x^* ; x)}{q(x ; x^*)} = \\frac{\\pi(x^*)}{\\pi(x)}\n",
    "$$\n",
    "\n",
    "\\noindent where $\\pi$ is the target distribution as usual. \n",
    "\n"
   ]
  },
  {
   "cell_type": "markdown",
   "metadata": {},
   "source": [
    "Note  that the relevant asymmetry for needing to compute the proposal ratio (instead of plain Metropolis where the proposal ratio is 1) is whether $q(x^* ; x)=q(x ; x^*)$. "
   ]
  },
  {
   "cell_type": "markdown",
   "metadata": {},
   "source": [
    "# Target \n",
    "We use a **log-normal** distribution with parametres $\\sigma = 0.75$ and $\\mu = 2.0$"
   ]
  },
  {
   "cell_type": "code",
   "execution_count": 4,
   "metadata": {},
   "outputs": [],
   "source": [
    "def target_distribution(x, mu=2.0, sigma=.75):\n",
    "    frozen_lognormal= lognorm(s=sigma, scale = np.exp(mu))\n",
    "    return frozen_lognormal.pdf(x)\n"
   ]
  },
  {
   "cell_type": "markdown",
   "metadata": {},
   "source": [
    "# Log-normal  distribution\n",
    "\n",
    "Suppose we want to draw samples from the **log-normal** probability distribution with parameters $\\mu = 2.0$ and $\\sigma = 0.75$ .\n",
    "\n",
    "Log-normal distribution is **assymetric** in nature.\n",
    "\n",
    "$$\n",
    "p(x ; \\mu, \\sigma) = \\frac{1}{x \\sigma \\sqrt{2 \\pi}} e^{- \\frac{(\\ln x - \\mu)^2}{2 \\sigma^2}} ~~~ x > 0\n",
    "$$"
   ]
  },
  {
   "cell_type": "markdown",
   "metadata": {},
   "source": [
    "# MH decision for Symmetric distribution\n",
    "\n",
    "\n",
    "The MH acceptance criteria for symmetric target distribution is given as \n",
    "\n",
    "$$\n",
    "\\frac{q(x^* ; x)}{q(x ; x^*)} = \\frac{\\pi(x^*)}{\\pi(x)}\n",
    "$$\n",
    "\n",
    "\n",
    "where $\\pi$ is the target distribution. \n",
    " \n",
    "The candidate state $x^*$ will always be accepted if we can find an when the probability density of the proposed candidate is higher than that of the current state. This ensures that the sampler stays longer in regions of high probability density. "
   ]
  },
  {
   "cell_type": "code",
   "execution_count": 5,
   "metadata": {},
   "outputs": [],
   "source": [
    "def MH_decision_symmetric(current, proposed, pdf):\n",
    "    # Remark: 'accepted_p' includes the case where p_proposed > p_current \n",
    "    # since u, a random number between 0 and 1, is then\n",
    "    # always less than the ratio p_proposed/p_current\n",
    "    # But for numerical stability we make a distinction between the \n",
    "    # cases below.\n",
    "    p_current, p_proposed = pdf(current), pdf(proposed)\n",
    "    ratio = p_proposed/p_current\n",
    "    \n",
    "    if ratio >=1:\n",
    "        return True\n",
    "    else:\n",
    "        u = np.random.uniform(0,1)\n",
    "        return u <=ratio"
   ]
  },
  {
   "cell_type": "markdown",
   "metadata": {},
   "source": [
    "# Generate a candidate\n",
    "\n",
    "We generate a candidate point $x^* = x + U(\\Delta,-\\Delta)$. "
   ]
  },
  {
   "cell_type": "code",
   "execution_count": 6,
   "metadata": {},
   "outputs": [],
   "source": [
    "def generate_symmetric_candidate(current,delta):\n",
    "    proposed_delta =  proposal_distribution_symmetric(delta)\n",
    "    return current + proposed_delta"
   ]
  },
  {
   "cell_type": "markdown",
   "metadata": {},
   "source": [
    "# MH Sampler\n",
    "This is thain algorithm. We run a number of iterations and making a decision whether to aceot of reject a proposed candidate in each case. If the canidate is accepted, we move to the candidate state, otherwise we remain in the previous state. "
   ]
  },
  {
   "cell_type": "code",
   "execution_count": 7,
   "metadata": {},
   "outputs": [],
   "source": [
    "def MH_sampler_symmetric(target_pdf,initial_state,delta, N=5000):\n",
    "    '''INPUT: 1) target distribution\n",
    "              2) initiat_state in the state space\n",
    "              3) delta value for the proposal disribution\n",
    "              4) the number of iterations that will be perfomed.'''\n",
    "    '''OUTPUT: data storage for the samples that were accepted'''\n",
    "    \n",
    "    current = initial_state\n",
    "    number_of_accepted_samples=0\n",
    "    data_storage = []\n",
    "    \n",
    "    \n",
    "    # Initialize the loop\n",
    "    for n in range(0, N):\n",
    "        proposed = generate_symmetric_candidate(current,delta)\n",
    "        accepted = MH_decision_symmetric(current, proposed, target_pdf)\n",
    "        if accepted:\n",
    "            current = proposed\n",
    "            number_of_accepted_samples+=1\n",
    "        else:# The else clause is redundant but added for readability.\n",
    "            current = current\n",
    "        data_storage.append(current)\n",
    "    print(\"The percentage of accepted samples is :\", format(number_of_accepted_samples/N*100, '.2f'), \"%\" )       \n",
    "    return data_storage"
   ]
  },
  {
   "cell_type": "markdown",
   "metadata": {},
   "source": [
    "# Set the parameters"
   ]
  },
  {
   "cell_type": "code",
   "execution_count": 8,
   "metadata": {},
   "outputs": [
    {
     "data": {
      "image/png": "[encoded data removed]",
      "text/plain": [
       "<Figure size 640x480 with 1 Axes>"
      ]
     },
     "metadata": {},
     "output_type": "display_data"
    }
   ],
   "source": [
    "x = np.linspace(start=0, stop=3, num=1000, endpoint=True)\n",
    "p = target_distribution(x, mu=0, sigma=0.25)\n",
    "plt.plot(x, p)\n",
    "plt.show()"
   ]
  },
  {
   "cell_type": "markdown",
   "metadata": {},
   "source": [
    "# Run the Symmetric sampler"
   ]
  },
  {
   "cell_type": "code",
   "execution_count": 9,
   "metadata": {},
   "outputs": [],
   "source": [
    "## Set parameters\n",
    "N=1000\n",
    "delta=2.0\n",
    "target_pdf = target_distribution\n"
   ]
  },
  {
   "cell_type": "code",
   "execution_count": 10,
   "metadata": {},
   "outputs": [
    {
     "data": {
      "text/plain": [
       "0.01519464803172992"
      ]
     },
     "execution_count": 10,
     "metadata": {},
     "output_type": "execute_result"
    }
   ],
   "source": [
    "target_distribution(1)"
   ]
  },
  {
   "cell_type": "code",
   "execution_count": 11,
   "metadata": {},
   "outputs": [
    {
     "name": "stdout",
     "output_type": "stream",
     "text": [
      "The percentage of accepted samples is : 90.30 %\n"
     ]
    }
   ],
   "source": [
    "#initial_state=proposal_distribution_symmetric(delta)\n",
    "ds_symmetric = MH_sampler_symmetric(target_pdf=target_distribution, \n",
    "                                    initial_state=2, delta=2, N=1000)"
   ]
  },
  {
   "cell_type": "code",
   "execution_count": 12,
   "metadata": {},
   "outputs": [],
   "source": [
    "#for i in np.arange(100):\n",
    "#    MH_sampler_symmetric(target_pdf=target_distribution, initial_state=2, delta=2, N=1000)"
   ]
  },
  {
   "cell_type": "markdown",
   "metadata": {},
   "source": [
    "# Plot the target and the histogram"
   ]
  },
  {
   "cell_type": "code",
   "execution_count": 13,
   "metadata": {
    "scrolled": true
   },
   "outputs": [
    {
     "ename": "AttributeError",
     "evalue": "Rectangle.set() got an unexpected keyword argument 'normed'",
     "output_type": "error",
     "traceback": [
      "\u001b[0;31m---------------------------------------------------------------------------\u001b[0m",
      "\u001b[0;31mAttributeError\u001b[0m                            Traceback (most recent call last)",
      "Cell \u001b[0;32mIn[13], line 9\u001b[0m\n\u001b[1;32m      5\u001b[0m ax \u001b[38;5;241m=\u001b[39m plt\u001b[38;5;241m.\u001b[39msubplot(\u001b[38;5;241m111\u001b[39m)\n\u001b[1;32m      8\u001b[0m ax\u001b[38;5;241m.\u001b[39mplot(x_vals,target_vals, color\u001b[38;5;241m=\u001b[39m\u001b[38;5;124m'\u001b[39m\u001b[38;5;124mr\u001b[39m\u001b[38;5;124m'\u001b[39m)\n\u001b[0;32m----> 9\u001b[0m plt\u001b[38;5;241m.\u001b[39mhist(ds_symmetric,x_vals,facecolor\u001b[38;5;241m=\u001b[39m\u001b[38;5;124m'\u001b[39m\u001b[38;5;124mgreen\u001b[39m\u001b[38;5;124m'\u001b[39m, normed\u001b[38;5;241m=\u001b[39m\u001b[38;5;28;01mTrue\u001b[39;00m,edgecolor\u001b[38;5;241m=\u001b[39m\u001b[38;5;124m'\u001b[39m\u001b[38;5;124mblack\u001b[39m\u001b[38;5;124m'\u001b[39m, linewidth\u001b[38;5;241m=\u001b[39m\u001b[38;5;241m1.2\u001b[39m)\n\u001b[1;32m     11\u001b[0m ax\u001b[38;5;241m.\u001b[39mset_xlabel(\u001b[38;5;124m\"\u001b[39m\u001b[38;5;124m$X$\u001b[39m\u001b[38;5;124m\"\u001b[39m)\n\u001b[1;32m     12\u001b[0m ax\u001b[38;5;241m.\u001b[39mset_ylabel(\u001b[38;5;124m\"\u001b[39m\u001b[38;5;124m$\u001b[39m\u001b[38;5;124m\\\u001b[39m\u001b[38;5;124mpi(x)$\u001b[39m\u001b[38;5;124m\"\u001b[39m)\n",
      "File \u001b[0;32m/opt/anaconda3/lib/python3.11/site-packages/matplotlib/pyplot.py:3224\u001b[0m, in \u001b[0;36mhist\u001b[0;34m(x, bins, range, density, weights, cumulative, bottom, histtype, align, orientation, rwidth, log, color, label, stacked, data, **kwargs)\u001b[0m\n\u001b[1;32m   3199\u001b[0m \u001b[38;5;129m@_copy_docstring_and_deprecators\u001b[39m(Axes\u001b[38;5;241m.\u001b[39mhist)\n\u001b[1;32m   3200\u001b[0m \u001b[38;5;28;01mdef\u001b[39;00m \u001b[38;5;21mhist\u001b[39m(\n\u001b[1;32m   3201\u001b[0m     x: ArrayLike \u001b[38;5;241m|\u001b[39m Sequence[ArrayLike],\n\u001b[0;32m   (...)\u001b[0m\n\u001b[1;32m   3222\u001b[0m     BarContainer \u001b[38;5;241m|\u001b[39m Polygon \u001b[38;5;241m|\u001b[39m \u001b[38;5;28mlist\u001b[39m[BarContainer \u001b[38;5;241m|\u001b[39m Polygon],\n\u001b[1;32m   3223\u001b[0m ]:\n\u001b[0;32m-> 3224\u001b[0m     \u001b[38;5;28;01mreturn\u001b[39;00m gca()\u001b[38;5;241m.\u001b[39mhist(\n\u001b[1;32m   3225\u001b[0m         x,\n\u001b[1;32m   3226\u001b[0m         bins\u001b[38;5;241m=\u001b[39mbins,\n\u001b[1;32m   3227\u001b[0m         \u001b[38;5;28mrange\u001b[39m\u001b[38;5;241m=\u001b[39m\u001b[38;5;28mrange\u001b[39m,\n\u001b[1;32m   3228\u001b[0m         density\u001b[38;5;241m=\u001b[39mdensity,\n\u001b[1;32m   3229\u001b[0m         weights\u001b[38;5;241m=\u001b[39mweights,\n\u001b[1;32m   3230\u001b[0m         cumulative\u001b[38;5;241m=\u001b[39mcumulative,\n\u001b[1;32m   3231\u001b[0m         bottom\u001b[38;5;241m=\u001b[39mbottom,\n\u001b[1;32m   3232\u001b[0m         histtype\u001b[38;5;241m=\u001b[39mhisttype,\n\u001b[1;32m   3233\u001b[0m         align\u001b[38;5;241m=\u001b[39malign,\n\u001b[1;32m   3234\u001b[0m         orientation\u001b[38;5;241m=\u001b[39morientation,\n\u001b[1;32m   3235\u001b[0m         rwidth\u001b[38;5;241m=\u001b[39mrwidth,\n\u001b[1;32m   3236\u001b[0m         log\u001b[38;5;241m=\u001b[39mlog,\n\u001b[1;32m   3237\u001b[0m         color\u001b[38;5;241m=\u001b[39mcolor,\n\u001b[1;32m   3238\u001b[0m         label\u001b[38;5;241m=\u001b[39mlabel,\n\u001b[1;32m   3239\u001b[0m         stacked\u001b[38;5;241m=\u001b[39mstacked,\n\u001b[1;32m   3240\u001b[0m         \u001b[38;5;241m*\u001b[39m\u001b[38;5;241m*\u001b[39m({\u001b[38;5;124m\"\u001b[39m\u001b[38;5;124mdata\u001b[39m\u001b[38;5;124m\"\u001b[39m: data} \u001b[38;5;28;01mif\u001b[39;00m data \u001b[38;5;129;01mis\u001b[39;00m \u001b[38;5;129;01mnot\u001b[39;00m \u001b[38;5;28;01mNone\u001b[39;00m \u001b[38;5;28;01melse\u001b[39;00m {}),\n\u001b[1;32m   3241\u001b[0m         \u001b[38;5;241m*\u001b[39m\u001b[38;5;241m*\u001b[39mkwargs,\n\u001b[1;32m   3242\u001b[0m     )\n",
      "File \u001b[0;32m/opt/anaconda3/lib/python3.11/site-packages/matplotlib/__init__.py:1465\u001b[0m, in \u001b[0;36m_preprocess_data.<locals>.inner\u001b[0;34m(ax, data, *args, **kwargs)\u001b[0m\n\u001b[1;32m   1462\u001b[0m \u001b[38;5;129m@functools\u001b[39m\u001b[38;5;241m.\u001b[39mwraps(func)\n\u001b[1;32m   1463\u001b[0m \u001b[38;5;28;01mdef\u001b[39;00m \u001b[38;5;21minner\u001b[39m(ax, \u001b[38;5;241m*\u001b[39margs, data\u001b[38;5;241m=\u001b[39m\u001b[38;5;28;01mNone\u001b[39;00m, \u001b[38;5;241m*\u001b[39m\u001b[38;5;241m*\u001b[39mkwargs):\n\u001b[1;32m   1464\u001b[0m     \u001b[38;5;28;01mif\u001b[39;00m data \u001b[38;5;129;01mis\u001b[39;00m \u001b[38;5;28;01mNone\u001b[39;00m:\n\u001b[0;32m-> 1465\u001b[0m         \u001b[38;5;28;01mreturn\u001b[39;00m func(ax, \u001b[38;5;241m*\u001b[39m\u001b[38;5;28mmap\u001b[39m(sanitize_sequence, args), \u001b[38;5;241m*\u001b[39m\u001b[38;5;241m*\u001b[39mkwargs)\n\u001b[1;32m   1467\u001b[0m     bound \u001b[38;5;241m=\u001b[39m new_sig\u001b[38;5;241m.\u001b[39mbind(ax, \u001b[38;5;241m*\u001b[39margs, \u001b[38;5;241m*\u001b[39m\u001b[38;5;241m*\u001b[39mkwargs)\n\u001b[1;32m   1468\u001b[0m     auto_label \u001b[38;5;241m=\u001b[39m (bound\u001b[38;5;241m.\u001b[39marguments\u001b[38;5;241m.\u001b[39mget(label_namer)\n\u001b[1;32m   1469\u001b[0m                   \u001b[38;5;129;01mor\u001b[39;00m bound\u001b[38;5;241m.\u001b[39mkwargs\u001b[38;5;241m.\u001b[39mget(label_namer))\n",
      "File \u001b[0;32m/opt/anaconda3/lib/python3.11/site-packages/matplotlib/axes/_axes.py:7007\u001b[0m, in \u001b[0;36mAxes.hist\u001b[0;34m(self, x, bins, range, density, weights, cumulative, bottom, histtype, align, orientation, rwidth, log, color, label, stacked, **kwargs)\u001b[0m\n\u001b[1;32m   7005\u001b[0m \u001b[38;5;28;01mif\u001b[39;00m patch:\n\u001b[1;32m   7006\u001b[0m     p \u001b[38;5;241m=\u001b[39m patch[\u001b[38;5;241m0\u001b[39m]\n\u001b[0;32m-> 7007\u001b[0m     p\u001b[38;5;241m.\u001b[39m_internal_update(kwargs)\n\u001b[1;32m   7008\u001b[0m     \u001b[38;5;28;01mif\u001b[39;00m lbl \u001b[38;5;129;01mis\u001b[39;00m \u001b[38;5;129;01mnot\u001b[39;00m \u001b[38;5;28;01mNone\u001b[39;00m:\n\u001b[1;32m   7009\u001b[0m         p\u001b[38;5;241m.\u001b[39mset_label(lbl)\n",
      "File \u001b[0;32m/opt/anaconda3/lib/python3.11/site-packages/matplotlib/artist.py:1219\u001b[0m, in \u001b[0;36mArtist._internal_update\u001b[0;34m(self, kwargs)\u001b[0m\n\u001b[1;32m   1212\u001b[0m \u001b[38;5;28;01mdef\u001b[39;00m \u001b[38;5;21m_internal_update\u001b[39m(\u001b[38;5;28mself\u001b[39m, kwargs):\n\u001b[1;32m   1213\u001b[0m \u001b[38;5;250m    \u001b[39m\u001b[38;5;124;03m\"\"\"\u001b[39;00m\n\u001b[1;32m   1214\u001b[0m \u001b[38;5;124;03m    Update artist properties without prenormalizing them, but generating\u001b[39;00m\n\u001b[1;32m   1215\u001b[0m \u001b[38;5;124;03m    errors as if calling `set`.\u001b[39;00m\n\u001b[1;32m   1216\u001b[0m \n\u001b[1;32m   1217\u001b[0m \u001b[38;5;124;03m    The lack of prenormalization is to maintain backcompatibility.\u001b[39;00m\n\u001b[1;32m   1218\u001b[0m \u001b[38;5;124;03m    \"\"\"\u001b[39;00m\n\u001b[0;32m-> 1219\u001b[0m     \u001b[38;5;28;01mreturn\u001b[39;00m \u001b[38;5;28mself\u001b[39m\u001b[38;5;241m.\u001b[39m_update_props(\n\u001b[1;32m   1220\u001b[0m         kwargs, \u001b[38;5;124m\"\u001b[39m\u001b[38;5;132;01m{cls.__name__}\u001b[39;00m\u001b[38;5;124m.set() got an unexpected keyword argument \u001b[39m\u001b[38;5;124m\"\u001b[39m\n\u001b[1;32m   1221\u001b[0m         \u001b[38;5;124m\"\u001b[39m\u001b[38;5;132;01m{prop_name!r}\u001b[39;00m\u001b[38;5;124m\"\u001b[39m)\n",
      "File \u001b[0;32m/opt/anaconda3/lib/python3.11/site-packages/matplotlib/artist.py:1193\u001b[0m, in \u001b[0;36mArtist._update_props\u001b[0;34m(self, props, errfmt)\u001b[0m\n\u001b[1;32m   1191\u001b[0m             func \u001b[38;5;241m=\u001b[39m \u001b[38;5;28mgetattr\u001b[39m(\u001b[38;5;28mself\u001b[39m, \u001b[38;5;124mf\u001b[39m\u001b[38;5;124m\"\u001b[39m\u001b[38;5;124mset_\u001b[39m\u001b[38;5;132;01m{\u001b[39;00mk\u001b[38;5;132;01m}\u001b[39;00m\u001b[38;5;124m\"\u001b[39m, \u001b[38;5;28;01mNone\u001b[39;00m)\n\u001b[1;32m   1192\u001b[0m             \u001b[38;5;28;01mif\u001b[39;00m \u001b[38;5;129;01mnot\u001b[39;00m \u001b[38;5;28mcallable\u001b[39m(func):\n\u001b[0;32m-> 1193\u001b[0m                 \u001b[38;5;28;01mraise\u001b[39;00m \u001b[38;5;167;01mAttributeError\u001b[39;00m(\n\u001b[1;32m   1194\u001b[0m                     errfmt\u001b[38;5;241m.\u001b[39mformat(\u001b[38;5;28mcls\u001b[39m\u001b[38;5;241m=\u001b[39m\u001b[38;5;28mtype\u001b[39m(\u001b[38;5;28mself\u001b[39m), prop_name\u001b[38;5;241m=\u001b[39mk))\n\u001b[1;32m   1195\u001b[0m             ret\u001b[38;5;241m.\u001b[39mappend(func(v))\n\u001b[1;32m   1196\u001b[0m \u001b[38;5;28;01mif\u001b[39;00m ret:\n",
      "\u001b[0;31mAttributeError\u001b[0m: Rectangle.set() got an unexpected keyword argument 'normed'"
     ]
    },
    {
     "data": {
      "image/png": "[encoded data removed]",
      "text/plain": [
       "<Figure size 640x480 with 1 Axes>"
      ]
     },
     "metadata": {},
     "output_type": "display_data"
    }
   ],
   "source": [
    "# x_vals=np.arange(0, 20, .25)\n",
    "x_vals = np.linspace(0,80,num=100)\n",
    "target_vals = [target_distribution(x) for x in x_vals]\n",
    "\n",
    "ax = plt.subplot(111)\n",
    "\n",
    "\n",
    "ax.plot(x_vals,target_vals, color='r')\n",
    "plt.hist(ds_symmetric,x_vals,facecolor='green', normed=True,edgecolor='black', linewidth=1.2)\n",
    "\n",
    "ax.set_xlabel(\"$X$\")\n",
    "ax.set_ylabel(\"$\\pi(x)$\")\n",
    "ax.set_title(\"MH with symmetric proposal distribution: $\\Delta $=\"+ str(delta) +\" and $N$ =\"+ str(N))\n",
    "plt.show()"
   ]
  },
  {
   "cell_type": "markdown",
   "metadata": {},
   "source": [
    "## When $\\rho$ = 5"
   ]
  },
  {
   "cell_type": "code",
   "execution_count": null,
   "metadata": {},
   "outputs": [],
   "source": [
    "delta=5.0"
   ]
  },
  {
   "cell_type": "code",
   "execution_count": null,
   "metadata": {},
   "outputs": [],
   "source": [
    "ds_symmetric_delta5 = MH_sampler_symmetric(target_pdf=target_distribution, \n",
    "                                    initial_state=2, delta=2, N=1000)\n"
   ]
  },
  {
   "cell_type": "code",
   "execution_count": null,
   "metadata": {},
   "outputs": [],
   "source": [
    "# x_vals=np.arange(0, 20, .25)\n",
    "x_vals = np.linspace(0,80,num=100)\n",
    "target_vals = [target_pdf(x) for x in x_vals]\n",
    "\n",
    "ax = plt.subplot(111)\n",
    "\n",
    "\n",
    "ax.plot(x_vals,target_vals, color='r')\n",
    "plt.hist(ds_symmetric_delta5,x_vals,facecolor='green', normed=True,edgecolor='black', linewidth=1.2)\n",
    "\n",
    "ax.set_xlabel(\"$X$\")\n",
    "ax.set_ylabel(\"$\\pi(x)$\")\n",
    "ax.set_title(\"MH with symmetric proposal distribution: $\\Delta $=\"+ str(delta) +\" and $N$ =\"+ str(N))\n",
    "plt.show()"
   ]
  },
  {
   "cell_type": "code",
   "execution_count": null,
   "metadata": {
    "collapsed": true,
    "jupyter": {
     "outputs_hidden": true
    }
   },
   "outputs": [],
   "source": []
  },
  {
   "cell_type": "code",
   "execution_count": null,
   "metadata": {
    "collapsed": true,
    "jupyter": {
     "outputs_hidden": true
    }
   },
   "outputs": [],
   "source": []
  },
  {
   "cell_type": "markdown",
   "metadata": {},
   "source": [
    "# Assymetric  MH"
   ]
  },
  {
   "cell_type": "markdown",
   "metadata": {},
   "source": [
    "# Asymmetric Proposal\n",
    "\n",
    "In the case where we want to sample from an asymmetric target distribution such as the log-normal distribution. it is good to use an asymmetric proposal distribution.\n",
    "\n",
    "Here we use a uniform distribution with varying upper and lower limits.  Where $\\rho=1.5$ \n",
    " \n",
    "$$\\beta = U(\\frac{1} {\\rho}, \\rho)$$\n",
    "\n",
    "\n",
    "To generate a candidate state, we multiply the current state with $\\beta$\n",
    "$$x^* =  \\beta x, $$"
   ]
  },
  {
   "cell_type": "code",
   "execution_count": null,
   "metadata": {},
   "outputs": [],
   "source": [
    "def asymmetric_proposal_distribution(x_i, rho):\n",
    "    delta = np.random.uniform(1/rho, rho)  \n",
    "    return x_i* delta"
   ]
  },
  {
   "cell_type": "markdown",
   "metadata": {},
   "source": [
    "# MH decision for Asymmetric distribution\n",
    "\n",
    "Going beyond symmetric proposal distributions  makes it possibility to propose bold moves and still have a high acceptance probability. This is an immediate consequence of the MH-acceptance criterion in Eq.~\\eqref{eq:MH_AcceptanceProbability}.\n",
    "\n",
    "\n",
    "\n",
    "For **assymetric proposal distrubution** we use the complete acceptance crriteria\n",
    "\n",
    "$$\\alpha_{MH}(\\mathbf{x}^{*}; \\mathbf{x}_{n} ) =  \\min \\left\\lbrace   1, \\dfrac{ \\pi(\\mathbf{x}^* ) \n",
    "q(\\mathbf{x}_n ; \\mathbf{x}^*)} {\\pi(\\mathbf{x}_{n})  q(\\mathbf{x}^{*} ; \\mathbf{x}_n)}\\right\\rbrace $$\n",
    "\n",
    " "
   ]
  },
  {
   "cell_type": "code",
   "execution_count": null,
   "metadata": {},
   "outputs": [],
   "source": [
    "def MH_decision_asymmetric(current, proposed, p, q):\n",
    "\n",
    "    p_current, p_proposed = p(current), p(proposed)\n",
    "  \n",
    "    q_current, q_proposed = q(current, rho),q(proposed, rho)\n",
    "    \n",
    "    ratio = (p_proposed/p_current) * (q_current/q_proposed)\n",
    "    \n",
    "    \n",
    "    if (ratio >=1):\n",
    "           return True\n",
    "    else:\n",
    "        u = np.random.uniform(0,1)\n",
    "        return u <= ratio \n",
    "    "
   ]
  },
  {
   "cell_type": "code",
   "execution_count": null,
   "metadata": {
    "collapsed": true,
    "jupyter": {
     "outputs_hidden": true
    }
   },
   "outputs": [],
   "source": []
  },
  {
   "cell_type": "markdown",
   "metadata": {},
   "source": [
    "# MH Sampler\n",
    "This is thain algorithm. We run a number of iterations and making a decision whether to aceot of reject a proposed candidate in each case. If the canidate is accepted, we move to the candidate state, otherwise we remain in the previous state. "
   ]
  },
  {
   "cell_type": "code",
   "execution_count": null,
   "metadata": {},
   "outputs": [],
   "source": [
    "def MH_sampler_asymmetric(target_pdf, proposal_pdf, initial_state,rho, N=5000):\n",
    "    '''INPUT: 1) target distribution\n",
    "              2) initiat_state in the state space\n",
    "              3) rho value for the proposal disribution\n",
    "              4) the number of iterations that will be perfomed.'''\n",
    "    '''OUTPUT: data storage for the samples that were accepted'''\n",
    "    \n",
    "    current = initial_state\n",
    "    number_of_accepted_samples=0\n",
    "    data_storage = []\n",
    "    \n",
    "    # Initialize the loop\n",
    "    for n in range(0, N):\n",
    "        proposed = asymmetric_proposal_distribution(current, rho)\n",
    "        accepted = MH_decision_asymmetric(current, proposed, target_pdf, proposal_pdf)\n",
    "        if accepted:\n",
    "            current = proposed\n",
    "            number_of_accepted_samples+=1\n",
    "        else:# The else clause is redundant but added for readability.\n",
    "            current = current\n",
    "        data_storage.append(current)\n",
    "    print(\"The percentage of accepted samples is :\", format(number_of_accepted_samples/N*100, '.2f'), \"%\" )         \n",
    "    return data_storage"
   ]
  },
  {
   "cell_type": "code",
   "execution_count": null,
   "metadata": {},
   "outputs": [],
   "source": [
    "# Set parameters\n",
    "N=1000\n",
    "delta=2.0\n",
    "rho=1.5\n",
    "target_pdf = target_distribution\n",
    "initial_state=np.random.uniform(1/rho, rho)"
   ]
  },
  {
   "cell_type": "markdown",
   "metadata": {},
   "source": [
    "# Run the Symmetric sampler"
   ]
  },
  {
   "cell_type": "code",
   "execution_count": null,
   "metadata": {},
   "outputs": [],
   "source": [
    "ds_assymetric = MH_sampler_asymmetric(target_pdf=target_distribution,proposal_pdf = asymmetric_proposal_distribution,\n",
    "                                    initial_state=0.6,rho=1.5, N=1000)\n",
    "# ds"
   ]
  },
  {
   "cell_type": "markdown",
   "metadata": {},
   "source": [
    "# Plot the target and the histogram"
   ]
  },
  {
   "cell_type": "code",
   "execution_count": null,
   "metadata": {},
   "outputs": [],
   "source": [
    "x_vals=np.arange(0, 80, 1)\n",
    "# x_vals = np.linspace(0,80,num=100)\n",
    "target_vals = [target_pdf(x) for x in x_vals]\n",
    "\n",
    "ax2 = plt.subplot(111)\n",
    "ax2.plot(x_vals,target_vals, color='r')\n",
    "plt.hist(ds_assymetric,x_vals,facecolor='green', normed=True,edgecolor='black', linewidth=1.2)\n",
    "\n",
    "\n",
    "\n",
    "ax2.set_xlabel(\"$X$\")\n",
    "ax2.set_ylabel(\"$\\pi(x)$\")\n",
    "ax2.set_title(\"MH with assymetric proposal distribution: $\\\\rho $=\"+ str(rho) +\" and $N$ =\"+ str(N))\n",
    "plt.show()"
   ]
  },
  {
   "cell_type": "markdown",
   "metadata": {},
   "source": [
    "In order to be able to use an asymmetric proposal distributions, the Metropolis-Hastings algorithm implements an additional correction factor c, defined from the proposal distribution as\n",
    "\n",
    "\n",
    "$$ c = \\dfrac{ q(\\mathbf{x}_n ; \\mathbf{x}^*)} {q(\\mathbf{x}^{*} ; \\mathbf{x}_n)} $$\n",
    "\n",
    "The correction factor adjusts the transition operator to ensure that the probability of moving from $\\mathbf{x}^{*} \\rightarrow \\mathbf{x}_n$ is equal to the probability of moving from $\\mathbf{x}_n \\rightarrow \\mathbf{x}^{*}$, no matter the proposal distribution.\n",
    "\n",
    "The Metropolis-Hastings algorithm is implemented with essentially the same procedure as the Metropolis sampler, except that the correction factor is used in the evaluation of acceptance probability \\alpha."
   ]
  },
  {
   "cell_type": "code",
   "execution_count": null,
   "metadata": {
    "collapsed": true,
    "jupyter": {
     "outputs_hidden": true
    }
   },
   "outputs": [],
   "source": []
  }
 ],
 "metadata": {
  "kernelspec": {
   "display_name": "Python 3 (ipykernel)",
   "language": "python",
   "name": "python3"
  },
  "language_info": {
   "codemirror_mode": {
    "name": "ipython",
    "version": 3
   },
   "file_extension": ".py",
   "mimetype": "text/x-python",
   "name": "python",
   "nbconvert_exporter": "python",
   "pygments_lexer": "ipython3",
   "version": "3.11.7"
  }
 },
 "nbformat": 4,
 "nbformat_minor": 4
}
