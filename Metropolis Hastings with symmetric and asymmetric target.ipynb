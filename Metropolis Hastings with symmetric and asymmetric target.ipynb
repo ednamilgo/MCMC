{
 "cells": [
  {
   "cell_type": "code",
   "execution_count": null,
   "metadata": {},
   "outputs": [],
   "source": [
    "import numpy as np\n",
    "import matplotlib.pyplot as plt\n",
    "import seaborn as sns\n",
    "import scipy.stats as ss\n",
    "from scipy.stats import lognorm"
   ]
  },
  {
   "cell_type": "code",
   "execution_count": null,
   "metadata": {},
   "outputs": [],
   "source": [
    "np.random.seed=1234"
   ]
  },
  {
   "cell_type": "markdown",
   "metadata": {},
   "source": [
    "# Metropolis Hastings Algorithm\n",
    "\n",
    "Metropolis Hastings algorith is the standard MCMC algorithm. \n",
    "it uses a simpler proposal distribution to navigate and sample from a complex distribution.\n",
    "\n",
    "### MH algorithm\n",
    "\n",
    "\n",
    "\\Input{$\\pi$,$\\mathbf{x}_{0}$, $\\mathbf{C} $, N}\n",
    " \n",
    " **For**{$n =1,2,3 \\cdots N$\n",
    " > draw a candidate state ~ $\\mathbf{x}^* =  q(\\mathbf{x}_{n+1} | \\mathbf{x}_n)$  $\\sim \\mathcal{N}(\\mathbf{m}, \\mathbf{C})$\\\\\n",
    "\n",
    ">compute acceptance criteria  $\\alpha(\\mathbf{x}_{n}, \\mathbf{x}^*) =  min \\left\\lbrace   1, \\dfrac{ \\pi(\\mathbf{x}^* ) } {\\pi(\\mathbf{x}_{n} ) }\\right\\rbrace $\\\\\n",
    "\n",
    ">draw ~$ u \\sim  U_{\\left[ 0,1\\right] }$\\\\\n",
    "\n",
    ">**If **$u < \\alpha(\\mathbf{x}_{n}, x^*) $ \n",
    "       \n",
    ">>$ \\mathbf{x}_{n+1}=\\mathbf{x}^* $ \n",
    "\n",
    ">**else**\n",
    ">>$ \\mathbf{x}_{n+1}=\\mathbf{x}_n $\n",
    "    \n"
   ]
  },
  {
   "cell_type": "markdown",
   "metadata": {},
   "source": [
    "## Part 1: Sysmmetric Invariant(target) distribution\n",
    "\n",
    "We first look at the ase where the traget distibution and the proposal distribution are symetric."
   ]
  },
  {
   "cell_type": "markdown",
   "metadata": {},
   "source": [
    "**Gaussian distribution** is sysmmetric in nature. We can therefor use a simplified MH acceptance criteria.  \n",
    "\n"
   ]
  },
  {
   "cell_type": "markdown",
   "metadata": {},
   "source": [
    "Suppose we use **standard Metropolis**, with symmetric proposal\n",
    "\n",
    "$$\n",
    "x^* = x + U(-\\Delta,\\Delta)\n",
    "$$\n",
    "\n",
    "This implies that the probability of choosing something in the interval $[x^*, x^* + dx]$, when we are at $x$ is:\n",
    "\n",
    "$$q(x^* ; x) = \\frac{dx}{2\\Delta}$$\n",
    "\n",
    " while the probability that $x$ is the interval $[x, x + dx]$ when we are at $x^*$ is given by\n",
    "\n",
    "$$q(x ; x^*) = \\frac{dx}{2\\Delta}= q( x^* ; x) $$\n",
    "\n",
    "The two probabilities cancels out, hence the standard acceptance criteria for the **symmetric** is \n",
    "\n",
    "\n",
    "$$\\alpha_{MH}(\\mathbf{x}^{*}; \\mathbf{x}_{n} ) =  \\min \\left\\lbrace   1, \\dfrac{ \\pi(\\mathbf{x}^* ) \n",
    "} {\\pi(\\mathbf{x}_{n}) }\\right\\rbrace $$\n",
    "\n",
    "While that for **assymetric proposal distrubution** is \n",
    "\n",
    "$$\\alpha_{MH}(\\mathbf{x}^{*}; \\mathbf{x}_{n} ) =  \\min \\left\\lbrace   1, \\dfrac{ \\pi(\\mathbf{x}^* ) \n",
    "q(\\mathbf{x}_n ; \\mathbf{x}^*)} {\\pi(\\mathbf{x}_{n})  q(\\mathbf{x}^{*} ; \\mathbf{x}_n)}\\right\\rbrace $$"
   ]
  },
  {
   "cell_type": "markdown",
   "metadata": {},
   "source": [
    "# Symmetric Proposal\n",
    "\n",
    "**Gaussian distribution** is sysmmetric in nature. We can therefor use a simplified MH acceptance criteria.  \n",
    "\n",
    "We look at the perfomance of a uniform distribution with diferent parameters and how the tails of the log normal distribition will be sampled. Note that log-normal distribution is assymetric in nature. \n",
    "These are :\n",
    "\n",
    "1) We use the Uniform distribution  $U(- \\Delta, \\Delta)$ where $\\Delta=2$\n",
    "\n",
    "2)  We use the Uniform distribution  $U(- \\Delta, \\Delta)$ where $\\Delta=5$\n"
   ]
  },
  {
   "cell_type": "code",
   "execution_count": null,
   "metadata": {},
   "outputs": [],
   "source": [
    "def proposal_distribution_symmetric(delta):\n",
    "    proposal = np.random.uniform(-delta, delta)  \n",
    "    return proposal"
   ]
  },
  {
   "cell_type": "markdown",
   "metadata": {},
   "source": [
    "# Target \n",
    "We use a **log-normal** distribution with parametres $\\sigma = 0.75$ and $\\mu = 2.0$"
   ]
  },
  {
   "cell_type": "code",
   "execution_count": null,
   "metadata": {},
   "outputs": [],
   "source": [
    "def target_distribution(x, mu=2.0, sigma=.75):\n",
    "    frozen_lognormal= lognorm(s=sigma, scale = np.exp(mu))\n",
    "    return frozen_lognormal.pdf(x)\n"
   ]
  },
  {
   "cell_type": "markdown",
   "metadata": {},
   "source": [
    "# MH decision for Symmetric distribution\n",
    "\n",
    "\n",
    "The MH acceptance criteria for symmetric target distribution is given as \n",
    "\n",
    "$$\n",
    "\\frac{q(x^* ; x)}{q(x ; x^*)} = \\frac{\\pi(x^*)}{\\pi(x)}\n",
    "$$\n",
    "\n",
    "\n",
    "where $\\pi$ is the target distribution. \n",
    " \n",
    "The candidate state $x^*$ will always be accepted if we can find an when the probability density of the proposed candidate is higher than that of the current state. This ensures that the sampler stays longer in regions of high probability density. "
   ]
  },
  {
   "cell_type": "code",
   "execution_count": null,
   "metadata": {},
   "outputs": [],
   "source": [
    "def MH_decision_symmetric(current, proposed, pdf):\n",
    "    # 'accepted_p' includes the case where p_proposed > p_current since u,\n",
    "    # a random number between 0 and 1, is always less than the ratio p_proposed/p_current\n",
    "   \n",
    "    p_current, p_proposed = pdf(current), pdf(proposed)\n",
    "    ratio = p_proposed/p_current\n",
    "    \n",
    "    if ratio >=1:\n",
    "        return True\n",
    "    else:\n",
    "        u = np.random.uniform(0,1)\n",
    "        return u <=ratio"
   ]
  },
  {
   "cell_type": "markdown",
   "metadata": {},
   "source": [
    "# Generate a candidate\n",
    "\n",
    "We generate a candidate point $x^* = x + U(\\Delta,-\\Delta)$. "
   ]
  },
  {
   "cell_type": "code",
   "execution_count": null,
   "metadata": {},
   "outputs": [],
   "source": [
    "def generate_symmetric_candidate(current,delta):\n",
    "    proposed_delta =  proposal_distribution_symmetric(delta)\n",
    "    return current + proposed_delta"
   ]
  },
  {
   "cell_type": "markdown",
   "metadata": {},
   "source": [
    "# MH Sampler\n",
    " We run a number of iterations and making a decision whether to accept of reject a proposed candidate. If the candidate is accepted, we move to the candidate state, otherwise we remain in the previous state. "
   ]
  },
  {
   "cell_type": "code",
   "execution_count": null,
   "metadata": {},
   "outputs": [],
   "source": [
    "def MH_sampler(target_pdf,initial_state, N=5000, symmetric=True,delta=None, rho=None,proposal_pdf=None):\n",
    "    '''INPUT: 1) target distribution\n",
    "              2) initiat_state in the state space\n",
    "              3) delta value for the proposal disribution\n",
    "              4) the number of iterations that will be perfomed.'''\n",
    "    '''OUTPUT: data storage for the samples that were accepted'''\n",
    "    \n",
    "    current = initial_state\n",
    "    number_of_accepted_samples=0\n",
    "    samples = []\n",
    "    \n",
    "    if symmetric:\n",
    "        poposed_pdf = generate_symmetric_candidate\n",
    "        accept_criteria = MH_decision_symmetric\n",
    "    else:\n",
    "        poposed_pdf = asymmetric_proposal_distribution\n",
    "        accept_criteria = MH_decision_asymmetric\n",
    "\n",
    "    #start the iterartions\n",
    "    for n in range(0, N):\n",
    "        proposed = generate_symmetric_candidate(current,delta)\n",
    "        accepted = MH_decision_symmetric(current, proposed, target_pdf)\n",
    "        if accepted:\n",
    "            current = proposed\n",
    "            number_of_accepted_samples+=1\n",
    "        else:# The else clause is redundant but added for readability.\n",
    "            current = current\n",
    "        samples.append(current)\n",
    "    print(\"The percentage of accepted samples is :\", format(number_of_accepted_samples/N*100, '.2f'), \"%\" )       \n",
    "    return samples"
   ]
  },
  {
   "cell_type": "markdown",
   "metadata": {},
   "source": [
    "# Set the parameters"
   ]
  },
  {
   "cell_type": "markdown",
   "metadata": {},
   "source": [
    "# Run the Symmetric sampler"
   ]
  },
  {
   "cell_type": "code",
   "execution_count": null,
   "metadata": {},
   "outputs": [],
   "source": [
    "## Set parameters\n",
    "N=10_000\n",
    "target_pdf = target_distribution\n"
   ]
  },
  {
   "cell_type": "code",
   "execution_count": null,
   "metadata": {},
   "outputs": [],
   "source": [
    "#initial_state=proposal_distribution_symmetric(delta)\n",
    "ds_symmetric_delta2 = MH_sampler(target_pdf=target_distribution, \n",
    "                                    initial_state=2, delta=2, N=1000,symmetric=True)\n",
    "ds_symmetric_delta5 = MH_sampler(target_pdf=target_distribution, \n",
    "                                    initial_state=2, delta=5, N=1000,symmetric=True)"
   ]
  },
  {
   "cell_type": "markdown",
   "metadata": {},
   "source": [
    "# Plot the target and the histogram"
   ]
  },
  {
   "cell_type": "code",
   "execution_count": null,
   "metadata": {
    "scrolled": true
   },
   "outputs": [],
   "source": [
    "def plot_samples(target_vals_delta, delta,symmetric=True):\n",
    "    '''\n",
    "    Received  targets values\n",
    "    returns fig for histogram and target pdf\n",
    "    '''\n",
    "    fig, ax = plt.subplots(1, 1, figsize=(8, 4))\n",
    "\n",
    "    x_vals = np.linspace(0,80,num=100)\n",
    "    target_vals = [target_distribution(x) for x in x_vals]\n",
    "\n",
    "    ax.plot(x_vals,target_vals, color='r')\n",
    "    plt.hist(target_vals_delta,x_vals,facecolor='green',density=True, edgecolor='black', linewidth=1.2)\n",
    "    \n",
    "    ax.set_xlabel(\"$X$\")\n",
    "    ax.set_ylabel(\"$\\pi(x)$\")\n",
    "    ax.set_title(f'MH with symmetric proposal distribution: $\\Delta $={delta} and $N$ ={N}')\n",
    "    if not symmetric: ax.set_title(f'MH with assymetric proposal distribution: $\\\\rho $={rho} and $N$ ={N}')\n",
    "    return fig\n"
   ]
  },
  {
   "cell_type": "code",
   "execution_count": null,
   "metadata": {},
   "outputs": [],
   "source": [
    "fig_sym_delta2 = plot_samples(ds_symmetric_delta2, delta=2)\n",
    "fig_sym_delta5 = plot_samples(ds_symmetric_delta5, delta=5)"
   ]
  },
  {
   "cell_type": "markdown",
   "metadata": {},
   "source": [
    "## Part 2: Using MH to sample from assymetric Target distribution"
   ]
  },
  {
   "cell_type": "markdown",
   "metadata": {},
   "source": [
    "# Asymmetric proposal distribution\n",
    "\n",
    "\n",
    "We choose to use **assymetric proposal** distribution in the case of target distribution which is in assymetric.\n",
    "\n",
    "\n",
    "Suppose we take steps in the **log**-domain instead, i.e. \n",
    "$$x^* =  \\beta x, ~~~ \\beta \\in U(\\frac{1} {\\rho}, \\rho)$$\n",
    "\n",
    "Note that this proposal distribution is asymmetric. The probability that the candidate $x^*$  is in the interval $[x^*, x^* + dx]$ \n",
    "when we are at $x$ is given by\n",
    "\n",
    "$$q(x^* ; x) = \\frac{dx}{x(\\rho - 1/\\rho)}$$\n",
    "\n",
    "\\noindent while the probability that $x$ is the interval $[x, x + dx]$ when we are at $x^*$ is given by\n",
    "\n",
    "$$q(x ; x^*) = \\frac{dx}{x^*(\\rho - 1/\\rho)}$$\n",
    "\n",
    "\n",
    "The ratio of the two equals\n",
    "\n",
    "$$\\frac{q(x^* ; x)}{q(x ; x^*)} = \\frac{x^*}{x}$$\n",
    "\n",
    "Going beyond symmetric proposal distributions  makes it possibility to propose bold moves and still have a high acceptance probability.\n",
    "\n",
    "Note that the candidate $x^*$ will always be accepted if we can find an asymmetric proposal distribution satisfying\n",
    "\n",
    "$$\n",
    "\\frac{q(x^* ; x)}{q(x ; x^*)} = \\frac{\\pi(x^*)}{\\pi(x)}\n",
    "$$\n",
    "\n",
    "\\noindent where $\\pi$ is the target distribution as usual. \n",
    "\n"
   ]
  },
  {
   "cell_type": "markdown",
   "metadata": {},
   "source": [
    "# Log-normal  distribution\n",
    "\n",
    "Suppose we want to draw samples from the **log-normal** probability distribution with parameters $\\mu = 2.0$ and $\\sigma = 0.75$ .\n",
    "\n",
    "Log-normal distribution is **assymetric** in nature.\n",
    "\n",
    "$$\n",
    "p(x ; \\mu, \\sigma) = \\frac{1}{x \\sigma \\sqrt{2 \\pi}} e^{- \\frac{(\\ln x - \\mu)^2}{2 \\sigma^2}} ~~~ x > 0\n",
    "$$"
   ]
  },
  {
   "cell_type": "markdown",
   "metadata": {},
   "source": [
    "# Asymmetric Proposal\n",
    "\n",
    "In the case where we want to sample from an asymmetric target distribution such as the log-normal distribution. it is good to use an asymmetric proposal distribution.\n",
    "\n",
    "Here we use a uniform distribution with varying upper and lower limits.  Where $\\rho=1.5$ \n",
    " \n",
    "$$\\beta = U(\\frac{1} {\\rho}, \\rho)$$\n",
    "\n",
    "\n",
    "To generate a candidate state, we multiply the current state with $\\beta$\n",
    "$$x^* =  \\beta x, $$"
   ]
  },
  {
   "cell_type": "code",
   "execution_count": null,
   "metadata": {},
   "outputs": [],
   "source": [
    "def asymmetric_proposal_distribution(x_i, rho):\n",
    "    delta = np.random.uniform(1/rho, rho)  \n",
    "    return x_i* delta"
   ]
  },
  {
   "cell_type": "markdown",
   "metadata": {},
   "source": [
    "# MH decision for Asymmetric distribution\n",
    "\n",
    "Going beyond symmetric proposal distributions makes it possibility to propose bold moves and still have a high acceptance probability.\n",
    "\n",
    "For **assymetric proposal distrubution** we use the complete acceptance crriteria\n",
    "\n",
    "$$\\alpha_{MH}(\\mathbf{x}^{*}; \\mathbf{x}_{n} ) =  \\min \\left\\lbrace   1, \\dfrac{ \\pi(\\mathbf{x}^* ) \n",
    "q(\\mathbf{x}_n ; \\mathbf{x}^*)} {\\pi(\\mathbf{x}_{n})  q(\\mathbf{x}^{*} ; \\mathbf{x}_n)}\\right\\rbrace $$\n",
    "\n",
    " "
   ]
  },
  {
   "cell_type": "code",
   "execution_count": null,
   "metadata": {},
   "outputs": [],
   "source": [
    "def MH_decision_asymmetric(current, proposed, p, q):\n",
    "\n",
    "    p_current, p_proposed = p(current), p(proposed)\n",
    "  \n",
    "    q_current, q_proposed = q(current, rho),q(proposed, rho)\n",
    "    \n",
    "    ratio = (p_proposed/p_current) * (q_current/q_proposed)\n",
    "    \n",
    "    \n",
    "    if (ratio >=1):\n",
    "           return True\n",
    "    else:\n",
    "        u = np.random.uniform(0,1)\n",
    "        return u <= ratio \n",
    "    "
   ]
  },
  {
   "cell_type": "code",
   "execution_count": null,
   "metadata": {},
   "outputs": [],
   "source": [
    "# Set parameters\n",
    "delta=2.0\n",
    "rho=1.5\n",
    "target_pdf = target_distribution\n",
    "initial_state=np.random.uniform(1/rho, rho)"
   ]
  },
  {
   "cell_type": "markdown",
   "metadata": {},
   "source": [
    "# Run the Symmetric sampler"
   ]
  },
  {
   "cell_type": "code",
   "execution_count": null,
   "metadata": {},
   "outputs": [],
   "source": [
    "ds_assymetric_delta2 = MH_sampler(target_pdf=target_distribution,proposal_pdf = asymmetric_proposal_distribution,\n",
    "                                    initial_state=0.6,delta=2,rho=1.5, N=1000,symmetric=False)\n",
    "\n",
    "ds_assymetric_delta5 = MH_sampler(target_pdf=target_distribution,proposal_pdf = asymmetric_proposal_distribution,\n",
    "                                    initial_state=0.6,delta=5,rho=1.5, N=1000,symmetric=False)"
   ]
  },
  {
   "cell_type": "markdown",
   "metadata": {},
   "source": [
    "# Plot the target and the histogram"
   ]
  },
  {
   "cell_type": "code",
   "execution_count": null,
   "metadata": {},
   "outputs": [],
   "source": [
    "fig_assym = plot_samples(ds_assymetric_delta2, delta=2,symmetric=False)\n",
    "fig_assym = plot_samples(ds_assymetric_delta5, delta=5,symmetric=False)"
   ]
  },
  {
   "cell_type": "markdown",
   "metadata": {},
   "source": [
    "In order to be able to use an asymmetric proposal distributions, the Metropolis-Hastings algorithm implements an additional correction factor c, defined from the proposal distribution as\n",
    "\n",
    "\n",
    "$$ c = \\dfrac{ q(\\mathbf{x}_n ; \\mathbf{x}^*)} {q(\\mathbf{x}^{*} ; \\mathbf{x}_n)} $$\n",
    "\n",
    "The correction factor adjusts the transition operator to ensure that the probability of moving from $\\mathbf{x}^{*} \\rightarrow \\mathbf{x}_n$ is equal to the probability of moving from $\\mathbf{x}_n \\rightarrow \\mathbf{x}^{*}$, no matter the proposal distribution.\n",
    "\n",
    "The Metropolis-Hastings algorithm is implemented with essentially the same procedure as the Metropolis sampler, except that the correction factor is used in the evaluation of acceptance probability \\alpha."
   ]
  },
  {
   "cell_type": "code",
   "execution_count": null,
   "metadata": {},
   "outputs": [],
   "source": []
  }
 ],
 "metadata": {
  "kernelspec": {
   "display_name": "Python 3 (ipykernel)",
   "language": "python",
   "name": "python3"
  },
  "language_info": {
   "codemirror_mode": {
    "name": "ipython",
    "version": 3
   },
   "file_extension": ".py",
   "mimetype": "text/x-python",
   "name": "python",
   "nbconvert_exporter": "python",
   "pygments_lexer": "ipython3",
   "version": "3.11.7"
  }
 },
 "nbformat": 4,
 "nbformat_minor": 4
}
